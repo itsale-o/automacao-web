{
 "cells": [
  {
   "cell_type": "markdown",
   "id": "cc24e61b",
   "metadata": {},
   "source": [
    "## Passo a passo do projeto\n",
    "\n",
    "1 - Importar e visualizar a base de dados \n",
    "\n",
    "2 - Criar o navegador\n",
    "\n",
    "3 - Para cada item da base de dados:\n",
    "\n",
    "    3.1 - Procurar o produto no google shopping e no buscapé\n",
    "    \n",
    "    3.2 - Verificar se os produtos nos sites estão dentro da faixa de preço\n",
    "    \n",
    "4 - Salvar as ofertas que correspondem as condições da pesquisa em um dataframe \n",
    "\n",
    "5 - Exportar para excel\n",
    "\n",
    "6 - Enviar o novo dataframe por email"
   ]
  },
  {
   "cell_type": "code",
   "execution_count": 1,
   "id": "19975ddb",
   "metadata": {
    "scrolled": true
   },
   "outputs": [
    {
     "data": {
      "text/html": [
       "<div>\n",
       "<style scoped>\n",
       "    .dataframe tbody tr th:only-of-type {\n",
       "        vertical-align: middle;\n",
       "    }\n",
       "\n",
       "    .dataframe tbody tr th {\n",
       "        vertical-align: top;\n",
       "    }\n",
       "\n",
       "    .dataframe thead th {\n",
       "        text-align: right;\n",
       "    }\n",
       "</style>\n",
       "<table border=\"1\" class=\"dataframe\">\n",
       "  <thead>\n",
       "    <tr style=\"text-align: right;\">\n",
       "      <th></th>\n",
       "      <th>Nome</th>\n",
       "      <th>Termos banidos</th>\n",
       "      <th>Preço mínimo</th>\n",
       "      <th>Preço máximo</th>\n",
       "    </tr>\n",
       "  </thead>\n",
       "  <tbody>\n",
       "    <tr>\n",
       "      <th>0</th>\n",
       "      <td>iphone 12 64 gb</td>\n",
       "      <td>mini watch</td>\n",
       "      <td>3000.0</td>\n",
       "      <td>3500.0</td>\n",
       "    </tr>\n",
       "    <tr>\n",
       "      <th>1</th>\n",
       "      <td>rtx 3060</td>\n",
       "      <td>zota galax</td>\n",
       "      <td>4000.0</td>\n",
       "      <td>4500.0</td>\n",
       "    </tr>\n",
       "  </tbody>\n",
       "</table>\n",
       "</div>"
      ],
      "text/plain": [
       "              Nome Termos banidos  Preço mínimo  Preço máximo\n",
       "0  iphone 12 64 gb     mini watch        3000.0        3500.0\n",
       "1         rtx 3060     zota galax        4000.0        4500.0"
      ]
     },
     "metadata": {},
     "output_type": "display_data"
    }
   ],
   "source": [
    "# 1 - Importar e visualizar a base de dados \n",
    "import pandas as pd \n",
    "import time\n",
    "from selenium import webdriver\n",
    "from selenium.webdriver.common.keys import Keys\n",
    "from selenium.webdriver.common.by import By\n",
    "from selenium.webdriver.support.ui import WebDriverWait\n",
    "from selenium.webdriver.support import expected_conditions as EC\n",
    "\n",
    "tabela_produtos = pd.read_excel(\"buscas.xlsx\")\n",
    "display(tabela_produtos)"
   ]
  },
  {
   "cell_type": "markdown",
   "id": "fcdceb06",
   "metadata": {},
   "source": [
    "#### Criação da função para realizar a busca no google"
   ]
  },
  {
   "cell_type": "code",
   "execution_count": 2,
   "id": "5624f437",
   "metadata": {
    "scrolled": false
   },
   "outputs": [],
   "source": [
    "# 3.1 - Pesquisando o produto no google shopping\n",
    "navegador = webdriver.Chrome()\n",
    "def busca_google_shopping(navegador, produto, termos_banidos, preco_min, preco_max):\n",
    "    navegador.get(\"https://www.google.com/\")\n",
    "    produto = produto.lower()\n",
    "    termos_banidos = termos_banidos.lower()\n",
    "    lista_termos_banidos = termos_banidos.split(' ')\n",
    "    lista_termos_produto = produto.split(' ')\n",
    "    preco_min = float(preco_min)\n",
    "    preco_max = float(preco_max)\n",
    "    navegador.find_element(By.XPATH, '/html/body/div[1]/div[3]/form/div[1]/div[1]/div[1]/div/div[2]/input').send_keys(produto)\n",
    "    navegador.find_element(By.XPATH, '/html/body/div[1]/div[3]/form/div[1]/div[1]/div[1]/div/div[2]/input').send_keys(Keys.ENTER)\n",
    "    abas_google = navegador.find_elements(By.CLASS_NAME, 'hdtb-mitem')\n",
    "    for item in abas_google:\n",
    "        if 'Shopping' in item.text:\n",
    "            item.click()\n",
    "            break\n",
    "    # 3.1.1 - Pegando os preços dos produtos\n",
    "    lista_oferta = []\n",
    "    lista_resultados = navegador.find_elements(By.CLASS_NAME, 'sh-dgr__grid-result')\n",
    "    for resultado in lista_resultados:\n",
    "        nome_produto = resultado.find_element(By.CLASS_NAME, 'Xjkr3b').text\n",
    "        nome_produto = nome_produto.lower()\n",
    "        # verificando as especificações do produto\n",
    "        tem_termos_banidos = False\n",
    "        for termo in lista_termos_banidos:\n",
    "            if termo in nome_produto:\n",
    "                tem_termos_banidos = True\n",
    "        tem_todos_termos = True\n",
    "        for termo in lista_termos_produto:\n",
    "            if termo not in nome_produto:\n",
    "                tem_todos_termos = False\n",
    "\n",
    "        if not tem_termos_banidos and tem_todos_termos:\n",
    "            try:\n",
    "                preco = resultado.find_element(By.CLASS_NAME, 'a8Pemb').text\n",
    "                preco = preco.replace('R$', '').replace(' ', '').replace('.', '').replace(',', '.')\n",
    "                preco = float(preco)\n",
    "            except:\n",
    "                continue\n",
    "            \n",
    "            if preco_min <= preco <= preco_max:\n",
    "                nome_loja = resultado.find_element(By.CLASS_NAME, 'aULzUe')\n",
    "                link_loja = nome_loja.find_element(By.XPATH, '..')\n",
    "                link = link_loja.get_attribute('href')\n",
    "                lista_oferta.append((nome_produto, preco, link))\n",
    "    return (lista_oferta)"
   ]
  },
  {
   "cell_type": "markdown",
   "id": "306b15a2",
   "metadata": {},
   "source": [
    "#### Criação da tabela de ofertas com os resultados enconstrados"
   ]
  },
  {
   "cell_type": "code",
   "execution_count": 3,
   "id": "1ce51e87",
   "metadata": {
    "scrolled": true
   },
   "outputs": [
    {
     "data": {
      "text/plain": [
       "[('placa de video msi rtx 3060 12gb gddr6 gaming z trio oc 912-v390-245',\n",
       "  4259.9,\n",
       "  'https://www.google.com/url?url=https://www.americanas.com.br/produto/6044876400%3Fopn%3DYSMESP%26offerId%3D633b76229064f2befba74e55%26srsltid%3DAR5OiO0psPjF_s9_fHR6eqpSxSwTkY1ZqyBwk4h7J_-H1prza0QSSjxtJs8&rct=j&q=&esrc=s&sa=U&ved=0ahUKEwiqpdPzsNj6AhW2LrkGHR3vB5MQguUECJcP&usg=AOvVaw27Dcjzhg3QE5NLzETxXvPw'),\n",
       " ('computador pichau gamer, intel i5-10400f, geforce rtx 3060 12gb, 8gb ddr4, ssd 240gb',\n",
       "  4399.97,\n",
       "  'https://www.google.com/url?url=https://www.pichau.com.br/computador-pichau-gamer-intel-i5-10400f-geforce-rtx-3060-12gb-8gb-ddr4-ssd-240gb-desmontado&rct=j&q=&esrc=s&sa=U&ved=0ahUKEwiqpdPzsNj6AhW2LrkGHR3vB5MQgOUECNEQ&usg=AOvVaw3by5-Gn_IJ4JMBnSRljEiH'),\n",
       " ('placa de video msi geforce rtx 3060 gaming z 3x 12gb gddr6 - 912-v390-245',\n",
       "  4344.75,\n",
       "  'https://www.google.com/url?url=https://www.buscape.com.br/lead%3Foid%3D927655733%26sortorder%3D-1%26index%3D%26searchterm%3Dnull%26pagesize%3D-1%26channel%3D%26og%3D19221%26pla%3D2022-10-05T07:17:00.162180&rct=j&q=&esrc=s&sa=U&ved=0ahUKEwiqpdPzsNj6AhW2LrkGHR3vB5MQgOUECIcS&usg=AOvVaw0SkQgYEYZYkxXrkem_xwgL')]"
      ]
     },
     "execution_count": 3,
     "metadata": {},
     "output_type": "execute_result"
    }
   ],
   "source": [
    "tabela_ofertas = pd.DataFrame()\n",
    "for linha in tabela_produtos.index:\n",
    "    produto = tabela_produtos.loc[linha, 'Nome']\n",
    "    preco_min = tabela_produtos.loc[linha, 'Preço mínimo']\n",
    "    preco_max = tabela_produtos.loc[linha, 'Preço máximo']\n",
    "    termos_banidos = tabela_produtos.loc[linha, 'Termos banidos']\n",
    "    lista_ofertas_google_shopping = busca_google_shopping(navegador, produto, termos_banidos, preco_min, preco_max)\n",
    "    if lista_ofertas_google_shopping:\n",
    "        tabela_ofertas_google_shopping = pd.DataFrame(lista_ofertas_google_shopping, columns=['Produto', 'Preço', 'Link da loja'])\n",
    "        tabela_ofertas = tabela_ofertas.append( tabela_ofertas_google_shopping)\n",
    "    else:\n",
    "        tabela_ofertas_google_shopping = None\n",
    "busca_google_shopping(navegador, produto, termos_banidos, preco_min, preco_max)"
   ]
  },
  {
   "cell_type": "markdown",
   "id": "ee018aab",
   "metadata": {},
   "source": [
    "#### Expotando a tabela para excel"
   ]
  },
  {
   "cell_type": "code",
   "execution_count": 4,
   "id": "e0e6d49c",
   "metadata": {
    "scrolled": false
   },
   "outputs": [
    {
     "data": {
      "text/html": [
       "<div>\n",
       "<style scoped>\n",
       "    .dataframe tbody tr th:only-of-type {\n",
       "        vertical-align: middle;\n",
       "    }\n",
       "\n",
       "    .dataframe tbody tr th {\n",
       "        vertical-align: top;\n",
       "    }\n",
       "\n",
       "    .dataframe thead th {\n",
       "        text-align: right;\n",
       "    }\n",
       "</style>\n",
       "<table border=\"1\" class=\"dataframe\">\n",
       "  <thead>\n",
       "    <tr style=\"text-align: right;\">\n",
       "      <th></th>\n",
       "      <th>Produto</th>\n",
       "      <th>Preço</th>\n",
       "      <th>Link da loja</th>\n",
       "    </tr>\n",
       "  </thead>\n",
       "  <tbody>\n",
       "    <tr>\n",
       "      <th>0</th>\n",
       "      <td>iphone 12 64gb usado</td>\n",
       "      <td>3400.00</td>\n",
       "      <td>https://www.google.com/url?url=https://sp.olx....</td>\n",
       "    </tr>\n",
       "    <tr>\n",
       "      <th>1</th>\n",
       "      <td>iphone 11 64gb preto, com tela de 6,1, 4g e câ...</td>\n",
       "      <td>3212.00</td>\n",
       "      <td>https://www.google.com/url?url=https://www.pon...</td>\n",
       "    </tr>\n",
       "    <tr>\n",
       "      <th>2</th>\n",
       "      <td>apple iphone 12, 64 gb, preto - totalmente des...</td>\n",
       "      <td>3045.00</td>\n",
       "      <td>https://www.google.com/url?url=https://tiendam...</td>\n",
       "    </tr>\n",
       "    <tr>\n",
       "      <th>3</th>\n",
       "      <td>apple iphone 12, 64 gb, verde - totalmente des...</td>\n",
       "      <td>3095.00</td>\n",
       "      <td>https://www.google.com/url?url=https://tiendam...</td>\n",
       "    </tr>\n",
       "    <tr>\n",
       "      <th>0</th>\n",
       "      <td>placa de video msi rtx 3060 12gb gddr6 gaming ...</td>\n",
       "      <td>4259.90</td>\n",
       "      <td>https://www.google.com/url?url=https://www.ame...</td>\n",
       "    </tr>\n",
       "    <tr>\n",
       "      <th>1</th>\n",
       "      <td>computador pichau gamer, intel i5-10400f, gefo...</td>\n",
       "      <td>4399.97</td>\n",
       "      <td>https://www.google.com/url?url=https://www.pic...</td>\n",
       "    </tr>\n",
       "    <tr>\n",
       "      <th>2</th>\n",
       "      <td>placa de video msi geforce rtx 3060 gaming z 3...</td>\n",
       "      <td>4344.75</td>\n",
       "      <td>https://www.google.com/url?url=https://www.bus...</td>\n",
       "    </tr>\n",
       "  </tbody>\n",
       "</table>\n",
       "</div>"
      ],
      "text/plain": [
       "                                             Produto    Preço  \\\n",
       "0                               iphone 12 64gb usado  3400.00   \n",
       "1  iphone 11 64gb preto, com tela de 6,1, 4g e câ...  3212.00   \n",
       "2  apple iphone 12, 64 gb, preto - totalmente des...  3045.00   \n",
       "3  apple iphone 12, 64 gb, verde - totalmente des...  3095.00   \n",
       "0  placa de video msi rtx 3060 12gb gddr6 gaming ...  4259.90   \n",
       "1  computador pichau gamer, intel i5-10400f, gefo...  4399.97   \n",
       "2  placa de video msi geforce rtx 3060 gaming z 3...  4344.75   \n",
       "\n",
       "                                        Link da loja  \n",
       "0  https://www.google.com/url?url=https://sp.olx....  \n",
       "1  https://www.google.com/url?url=https://www.pon...  \n",
       "2  https://www.google.com/url?url=https://tiendam...  \n",
       "3  https://www.google.com/url?url=https://tiendam...  \n",
       "0  https://www.google.com/url?url=https://www.ame...  \n",
       "1  https://www.google.com/url?url=https://www.pic...  \n",
       "2  https://www.google.com/url?url=https://www.bus...  "
      ]
     },
     "metadata": {},
     "output_type": "display_data"
    }
   ],
   "source": [
    "display(tabela_ofertas)\n",
    "tabela_ofertas = tabela_ofertas.reset_index(drop=True)\n",
    "tabela_ofertas.to_excel('Ofertas.xlsx', index=False)\n"
   ]
  },
  {
   "cell_type": "markdown",
   "id": "d1bf9a6b",
   "metadata": {},
   "source": [
    "#### Enviando e-mail com os resultados\n",
    "\n",
    "\n",
    "\n",
    "\n",
    "\n",
    "\n",
    "\n",
    "\n",
    "\n",
    "\n",
    "\n",
    "\n",
    "\n",
    "\n",
    "\n",
    "\n",
    "\n",
    "\n",
    "\n",
    "\n",
    "\n",
    "\n",
    "\n",
    "\n",
    "\n",
    "\n"
   ]
  },
  {
   "cell_type": "code",
   "execution_count": null,
   "id": "28befdd3",
   "metadata": {},
   "outputs": [],
   "source": [
    "# verificando se existe alguma oferta na tabela\n",
    "if len(tabela_ofertas.index) > 0:\n",
    "    \n",
    "\n",
    "\n",
    "\n",
    "\n",
    "\n",
    "\n",
    "\n",
    "\n",
    "\n",
    "\n",
    "\n",
    "\n",
    "\n",
    "\n",
    "\n",
    "\n",
    "\n",
    "\n"
   ]
  }
 ],
 "metadata": {
  "kernelspec": {
   "display_name": "Python 3 (ipykernel)",
   "language": "python",
   "name": "python3"
  },
  "language_info": {
   "codemirror_mode": {
    "name": "ipython",
    "version": 3
   },
   "file_extension": ".py",
   "mimetype": "text/x-python",
   "name": "python",
   "nbconvert_exporter": "python",
   "pygments_lexer": "ipython3",
   "version": "3.9.7"
  }
 },
 "nbformat": 4,
 "nbformat_minor": 5
}
