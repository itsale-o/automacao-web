{
 "cells": [
  {
   "cell_type": "markdown",
   "id": "653782eb",
   "metadata": {},
   "source": [
    "#### Importando a base de dados e as bibliotecas necessárias"
   ]
  },
  {
   "cell_type": "code",
   "execution_count": 1,
   "id": "2ca6e591",
   "metadata": {},
   "outputs": [
    {
     "data": {
      "text/html": [
       "<div>\n",
       "<style scoped>\n",
       "    .dataframe tbody tr th:only-of-type {\n",
       "        vertical-align: middle;\n",
       "    }\n",
       "\n",
       "    .dataframe tbody tr th {\n",
       "        vertical-align: top;\n",
       "    }\n",
       "\n",
       "    .dataframe thead th {\n",
       "        text-align: right;\n",
       "    }\n",
       "</style>\n",
       "<table border=\"1\" class=\"dataframe\">\n",
       "  <thead>\n",
       "    <tr style=\"text-align: right;\">\n",
       "      <th></th>\n",
       "      <th>Nome</th>\n",
       "      <th>Termos banidos</th>\n",
       "      <th>Preço mínimo</th>\n",
       "      <th>Preço máximo</th>\n",
       "    </tr>\n",
       "  </thead>\n",
       "  <tbody>\n",
       "    <tr>\n",
       "      <th>0</th>\n",
       "      <td>iphone 12 64 gb</td>\n",
       "      <td>mini watch</td>\n",
       "      <td>3000.0</td>\n",
       "      <td>3500.0</td>\n",
       "    </tr>\n",
       "    <tr>\n",
       "      <th>1</th>\n",
       "      <td>rtx 3060</td>\n",
       "      <td>zota galax</td>\n",
       "      <td>4000.0</td>\n",
       "      <td>4500.0</td>\n",
       "    </tr>\n",
       "  </tbody>\n",
       "</table>\n",
       "</div>"
      ],
      "text/plain": [
       "              Nome Termos banidos  Preço mínimo  Preço máximo\n",
       "0  iphone 12 64 gb     mini watch        3000.0        3500.0\n",
       "1         rtx 3060     zota galax        4000.0        4500.0"
      ]
     },
     "metadata": {},
     "output_type": "display_data"
    }
   ],
   "source": [
    "import pandas as pd \n",
    "import time\n",
    "from selenium import webdriver\n",
    "from selenium.webdriver.common.keys import Keys\n",
    "from selenium.webdriver.common.by import By\n",
    "from selenium.webdriver.support.ui import WebDriverWait\n",
    "from selenium.webdriver.support import expected_conditions as EC\n",
    "\n",
    "tabela_produtos = pd.read_excel(\"buscas.xlsx\")\n",
    "display(tabela_produtos)"
   ]
  },
  {
   "cell_type": "markdown",
   "id": "441170ac",
   "metadata": {},
   "source": [
    "#### Criação da função para realizar a busca no Google"
   ]
  },
  {
   "cell_type": "code",
   "execution_count": 2,
   "id": "60db0a5a",
   "metadata": {},
   "outputs": [],
   "source": [
    "navegador = webdriver.Chrome()\n",
    "def busca_google_shopping(navegador, produto, termos_banidos, preco_min, preco_max):\n",
    "    navegador.get(\"https://www.google.com/\")\n",
    "    produto = produto.lower()\n",
    "    termos_banidos = termos_banidos.lower()\n",
    "    lista_termos_banidos = termos_banidos.split(' ')\n",
    "    lista_termos_produto = produto.split(' ')\n",
    "    preco_min = float(preco_min)\n",
    "    preco_max = float(preco_max)\n",
    "    navegador.find_element(By.XPATH, '/html/body/div[1]/div[3]/form/div[1]/div[1]/div[1]/div/div[2]/input').send_keys(produto)\n",
    "    navegador.find_element(By.XPATH, '/html/body/div[1]/div[3]/form/div[1]/div[1]/div[1]/div/div[2]/input').send_keys(Keys.ENTER)\n",
    "    abas_google = navegador.find_elements(By.CLASS_NAME, 'hdtb-mitem')\n",
    "    for item in abas_google:\n",
    "        if 'Shopping' in item.text:\n",
    "            item.click()\n",
    "            break\n",
    "    lista_oferta = []\n",
    "    lista_resultados = navegador.find_elements(By.CLASS_NAME, 'sh-dgr__grid-result')\n",
    "    for resultado in lista_resultados:\n",
    "        nome_produto = resultado.find_element(By.CLASS_NAME, 'Xjkr3b').text\n",
    "        nome_produto = nome_produto.lower()\n",
    "        tem_termos_banidos = False\n",
    "        for termo in lista_termos_banidos:\n",
    "            if termo in nome_produto:\n",
    "                tem_termos_banidos = True\n",
    "        tem_todos_termos = True\n",
    "        for termo in lista_termos_produto:\n",
    "            if termo not in nome_produto:\n",
    "                tem_todos_termos = False\n",
    "        if not tem_termos_banidos and tem_todos_termos:\n",
    "            try:\n",
    "                preco = resultado.find_element(By.CLASS_NAME, 'a8Pemb').text\n",
    "                preco = preco.replace('R$', '').replace(' ', '').replace('.', '').replace(',', '.')\n",
    "                preco = float(preco)\n",
    "            except:\n",
    "                continue        \n",
    "            if preco_min <= preco <= preco_max:\n",
    "                nome_loja = resultado.find_element(By.CLASS_NAME, 'aULzUe')\n",
    "                link_loja = nome_loja.find_element(By.XPATH, '..')\n",
    "                link = link_loja.get_attribute('href')\n",
    "                lista_oferta.append((nome_produto, preco, link))\n",
    "    return (lista_oferta)"
   ]
  },
  {
   "cell_type": "markdown",
   "id": "968f7125",
   "metadata": {},
   "source": [
    "#### Criação de uma nova base de dados com os resultados obtidos através da busca"
   ]
  },
  {
   "cell_type": "code",
   "execution_count": 3,
   "id": "e59f958b",
   "metadata": {},
   "outputs": [
    {
     "data": {
      "text/plain": [
       "[('placa de video msi rtx 3060 12gb gddr6 gaming z trio oc 912-v390-245',\n",
       "  4344.75,\n",
       "  'https://www.google.com/url?url=https://www.shoptime.com.br/produto/5977515227%3Fopn%3DGOOGLEXML%26offerId%3D632e36e13c9ae19b9b9c5956%26srsltid%3DAR5OiO0a6VEHbyzJlYU6717ewd6NJ1qNuoUICdcwCiRUl6qnpC6I6ca1Iww&rct=j&q=&esrc=s&sa=U&ved=0ahUKEwjwhZyfu9j6AhV2HLkGHfNrDrIQguUECOYO&usg=AOvVaw3OExquT5C3sttoPFz2F6Ud'),\n",
       " ('placa de vídeo nvidia geforce rtx 3060 aorus elite 12gb gddr6 gv-n3060aorus e ...',\n",
       "  4379.99,\n",
       "  'https://www.google.com/url?url=https://shopbetter24.com.br/shop/product/graphics-card-gigabyte-gv-n3060aorus-e-12gd-v2_369206%3Faff_t%3Dgmc%26srsltid%3DAR5OiO2-ZslCM6HFRB1QiYY4tmDCZEfhsW83UR_5KCGdC8vSVnBC0WwdfxI&rct=j&q=&esrc=s&sa=U&ved=0ahUKEwjwhZyfu9j6AhV2HLkGHfNrDrIQguUECMQS&usg=AOvVaw3rEoYtX8ffBurZoKG5KxUR')]"
      ]
     },
     "execution_count": 3,
     "metadata": {},
     "output_type": "execute_result"
    }
   ],
   "source": [
    "tabela_ofertas = pd.DataFrame()\n",
    "for linha in tabela_produtos.index:\n",
    "    produto = tabela_produtos.loc[linha, 'Nome']\n",
    "    preco_min = tabela_produtos.loc[linha, 'Preço mínimo']\n",
    "    preco_max = tabela_produtos.loc[linha, 'Preço máximo']\n",
    "    termos_banidos = tabela_produtos.loc[linha, 'Termos banidos']\n",
    "    lista_ofertas_google_shopping = busca_google_shopping(navegador, produto, termos_banidos, preco_min, preco_max)\n",
    "    if lista_ofertas_google_shopping:\n",
    "        tabela_ofertas_google_shopping = pd.DataFrame(lista_ofertas_google_shopping, columns=['Produto', 'Preço', 'Link da loja'])\n",
    "        tabela_ofertas = tabela_ofertas.append( tabela_ofertas_google_shopping)\n",
    "    else:\n",
    "        tabela_ofertas_google_shopping = None\n",
    "busca_google_shopping(navegador, produto, termos_banidos, preco_min, preco_max)"
   ]
  },
  {
   "cell_type": "markdown",
   "id": "971a7c14",
   "metadata": {},
   "source": [
    "#### Expotando a tabela para excel"
   ]
  },
  {
   "cell_type": "code",
   "execution_count": 4,
   "id": "1f9f334d",
   "metadata": {},
   "outputs": [
    {
     "data": {
      "text/html": [
       "<div>\n",
       "<style scoped>\n",
       "    .dataframe tbody tr th:only-of-type {\n",
       "        vertical-align: middle;\n",
       "    }\n",
       "\n",
       "    .dataframe tbody tr th {\n",
       "        vertical-align: top;\n",
       "    }\n",
       "\n",
       "    .dataframe thead th {\n",
       "        text-align: right;\n",
       "    }\n",
       "</style>\n",
       "<table border=\"1\" class=\"dataframe\">\n",
       "  <thead>\n",
       "    <tr style=\"text-align: right;\">\n",
       "      <th></th>\n",
       "      <th>Produto</th>\n",
       "      <th>Preço</th>\n",
       "      <th>Link da loja</th>\n",
       "    </tr>\n",
       "  </thead>\n",
       "  <tbody>\n",
       "    <tr>\n",
       "      <th>0</th>\n",
       "      <td>iphone 12 64gb usado</td>\n",
       "      <td>3400.00</td>\n",
       "      <td>https://www.google.com/url?url=https://sp.olx....</td>\n",
       "    </tr>\n",
       "    <tr>\n",
       "      <th>1</th>\n",
       "      <td>iphone 11 64gb preto, com tela de 6,1, 4g e câ...</td>\n",
       "      <td>3212.00</td>\n",
       "      <td>https://www.google.com/url?url=https://www.ext...</td>\n",
       "    </tr>\n",
       "    <tr>\n",
       "      <th>2</th>\n",
       "      <td>apple iphone 12, 64 gb, verde - totalmente des...</td>\n",
       "      <td>3095.00</td>\n",
       "      <td>https://www.google.com/url?url=https://tiendam...</td>\n",
       "    </tr>\n",
       "    <tr>\n",
       "      <th>3</th>\n",
       "      <td>iphone 11 pro - 64 gb - 12x sem juros no cartão !</td>\n",
       "      <td>3490.00</td>\n",
       "      <td>https://www.google.com/url?url=https://pr.olx....</td>\n",
       "    </tr>\n",
       "    <tr>\n",
       "      <th>4</th>\n",
       "      <td>apple iphone 12, 64 gb, (produto) vermelho - t...</td>\n",
       "      <td>3009.00</td>\n",
       "      <td>https://www.google.com/url?url=https://tiendam...</td>\n",
       "    </tr>\n",
       "    <tr>\n",
       "      <th>5</th>\n",
       "      <td>vitrine: iphone 11 apple 64gb roxo tela 6,1 câ...</td>\n",
       "      <td>3099.00</td>\n",
       "      <td>https://www.google.com/url?url=https://www.car...</td>\n",
       "    </tr>\n",
       "    <tr>\n",
       "      <th>0</th>\n",
       "      <td>placa de video msi rtx 3060 12gb gddr6 gaming ...</td>\n",
       "      <td>4344.75</td>\n",
       "      <td>https://www.google.com/url?url=https://www.sho...</td>\n",
       "    </tr>\n",
       "    <tr>\n",
       "      <th>1</th>\n",
       "      <td>placa de vídeo nvidia geforce rtx 3060 aorus e...</td>\n",
       "      <td>4379.99</td>\n",
       "      <td>https://www.google.com/url?url=https://shopbet...</td>\n",
       "    </tr>\n",
       "  </tbody>\n",
       "</table>\n",
       "</div>"
      ],
      "text/plain": [
       "                                             Produto    Preço  \\\n",
       "0                               iphone 12 64gb usado  3400.00   \n",
       "1  iphone 11 64gb preto, com tela de 6,1, 4g e câ...  3212.00   \n",
       "2  apple iphone 12, 64 gb, verde - totalmente des...  3095.00   \n",
       "3  iphone 11 pro - 64 gb - 12x sem juros no cartão !  3490.00   \n",
       "4  apple iphone 12, 64 gb, (produto) vermelho - t...  3009.00   \n",
       "5  vitrine: iphone 11 apple 64gb roxo tela 6,1 câ...  3099.00   \n",
       "0  placa de video msi rtx 3060 12gb gddr6 gaming ...  4344.75   \n",
       "1  placa de vídeo nvidia geforce rtx 3060 aorus e...  4379.99   \n",
       "\n",
       "                                        Link da loja  \n",
       "0  https://www.google.com/url?url=https://sp.olx....  \n",
       "1  https://www.google.com/url?url=https://www.ext...  \n",
       "2  https://www.google.com/url?url=https://tiendam...  \n",
       "3  https://www.google.com/url?url=https://pr.olx....  \n",
       "4  https://www.google.com/url?url=https://tiendam...  \n",
       "5  https://www.google.com/url?url=https://www.car...  \n",
       "0  https://www.google.com/url?url=https://www.sho...  \n",
       "1  https://www.google.com/url?url=https://shopbet...  "
      ]
     },
     "metadata": {},
     "output_type": "display_data"
    }
   ],
   "source": [
    "display(tabela_ofertas)\n",
    "tabela_ofertas = tabela_ofertas.reset_index(drop=True)\n",
    "tabela_ofertas.to_excel('Ofertas.xlsx', index=False)"
   ]
  }
 ],
 "metadata": {
  "kernelspec": {
   "display_name": "Python 3 (ipykernel)",
   "language": "python",
   "name": "python3"
  },
  "language_info": {
   "codemirror_mode": {
    "name": "ipython",
    "version": 3
   },
   "file_extension": ".py",
   "mimetype": "text/x-python",
   "name": "python",
   "nbconvert_exporter": "python",
   "pygments_lexer": "ipython3",
   "version": "3.9.7"
  }
 },
 "nbformat": 4,
 "nbformat_minor": 5
}
